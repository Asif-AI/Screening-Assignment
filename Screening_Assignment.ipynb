{
 "cells": [
  {
   "cell_type": "markdown",
   "id": "56255cb8",
   "metadata": {},
   "source": [
    "# Abstract Class:\n",
    "\n",
    "It is a predefined module derived from ABC Class of abc module, also known as Meta Class, defines the behaviour of other classes.  It can have abstract as well as concrete method.\n",
    "We cannot make object of an abstract class. \n",
    "It is not necessary  to declare all methods abstract in an abstract class.\n",
    "If there is any abstract method  in any class it is an abstract class.\n",
    "\n",
    "USAGE: Abstract class is used when common features are shared by all the objects.\n"
   ]
  },
  {
   "cell_type": "code",
   "execution_count": 71,
   "id": "a2159c9e",
   "metadata": {},
   "outputs": [],
   "source": [
    "#importing ABC class\n",
    "from abc import ABC, abstractmethod"
   ]
  },
  {
   "cell_type": "code",
   "execution_count": 76,
   "id": "101110c9",
   "metadata": {},
   "outputs": [],
   "source": [
    "class DefenceAcademy(ABC):\n",
    "    @abstractmethod\n",
    "    def field(self):\n",
    "        pass\n",
    "    def cadets (self):\n",
    "        print (\"Cadets = Trained Cadets\")\n",
    "        \n",
    "class Army(DefenceAcademy):\n",
    "    def field(self):\n",
    "        print (\"Trained cadets required on land for Army\")\n",
    "        \n",
    "class AirForce(DefenceAcademy):\n",
    "    def field(self):\n",
    "        print (\"Trained cadets required in Air for Airforce\")\n",
    "        \n",
    "class Navy(DefenceAcademy):\n",
    "    def field(self):\n",
    "        print (\"Trained cadets required in Sea for Navy\")\n",
    "        \n"
   ]
  },
  {
   "cell_type": "code",
   "execution_count": 77,
   "id": "d7305c49",
   "metadata": {},
   "outputs": [],
   "source": [
    "#Object cretion\n",
    "a = Army()\n",
    "ar = AirForce()\n",
    "nvy = Navy()"
   ]
  },
  {
   "cell_type": "code",
   "execution_count": 78,
   "id": "e00a4c1e",
   "metadata": {},
   "outputs": [
    {
     "name": "stdout",
     "output_type": "stream",
     "text": [
      "Cadets = Trained Cadets\n",
      "Trained cadets required on land for Army\n",
      "\n",
      "Cadets = Trained Cadets\n",
      "Trained cadets required in Air for Airforce\n",
      "\n",
      "Cadets = Trained Cadets\n",
      "Trained cadets required in Sea for Navy\n",
      "\n"
     ]
    }
   ],
   "source": [
    "a.cadets()\n",
    "a.field()\n",
    "print()\n",
    "ar.cadets()\n",
    "ar.field()\n",
    "print()\n",
    "nvy.cadets()\n",
    "nvy.field()\n",
    "print()"
   ]
  },
  {
   "cell_type": "markdown",
   "id": "0f01cea9",
   "metadata": {},
   "source": [
    "# Decorators:\n",
    "Decorator accepts a function as parameter and returns a function.\n",
    "#It takes a result of a function, modifies the result and returns it.\n",
    "#Functions are taken as arguments into another function and then called inside the wrapper function and @function_name is used to specify a decorator to be applied in another function.  It is used to enhance the function."
   ]
  },
  {
   "cell_type": "code",
   "execution_count": 53,
   "id": "e07f4e7d",
   "metadata": {},
   "outputs": [
    {
     "name": "stdout",
     "output_type": "stream",
     "text": [
      "105\n"
     ]
    }
   ],
   "source": [
    "def decor1(num):\n",
    "    def inner():\n",
    "        b = num()\n",
    "        multi = b * 10\n",
    "        return multi\n",
    "    return inner\n",
    "\n",
    "def decor(num):\n",
    "    def inner():\n",
    "        a = num()\n",
    "        add = a + 5\n",
    "        return add\n",
    "    return inner\n",
    "\n",
    "@decor\n",
    "@decor1\n",
    "\n",
    "def num():\n",
    "    return 10\n",
    "print (num())\n"
   ]
  },
  {
   "cell_type": "markdown",
   "id": "8b384258",
   "metadata": {},
   "source": [
    "# Multiple Inheritances:\n",
    "#One class is inheritted from two or more different base classes.\n",
    "\n"
   ]
  },
  {
   "cell_type": "code",
   "execution_count": 54,
   "id": "fa560ec0",
   "metadata": {},
   "outputs": [],
   "source": [
    "class Top_Schools:\n",
    "    def teaching_pattern(self):\n",
    "        print(\"Top_Schools teaching pattern is apreciated.\")\n",
    "        "
   ]
  },
  {
   "cell_type": "code",
   "execution_count": 55,
   "id": "95e396ab",
   "metadata": {},
   "outputs": [],
   "source": [
    "class English_Medium(Top_Schools):\n",
    "    def teaching_pattern(self):\n",
    "        print(\"English Medium teaching pattern is apreciated.\")"
   ]
  },
  {
   "cell_type": "code",
   "execution_count": 56,
   "id": "51e2bf2b",
   "metadata": {},
   "outputs": [],
   "source": [
    "class Hindi_Medium(Top_Schools):\n",
    "    def teaching_pattern(self):\n",
    "        print(\"Hindi Medium teaching pattern is apreciated.\")"
   ]
  },
  {
   "cell_type": "code",
   "execution_count": 57,
   "id": "6f6b7df9",
   "metadata": {},
   "outputs": [],
   "source": [
    "class Vernacular_Medium(English_Medium, Hindi_Medium):\n",
    "    def teaching_pattern(self):\n",
    "        print(\"Vernacular Medium teaching pattern is apreciated.\")\n",
    "        Hindi_Medium.teaching_pattern(self)\n",
    "        English_Medium.teaching_pattern(self)\n",
    "        Top_Schools.teaching_pattern(self)\n"
   ]
  },
  {
   "cell_type": "code",
   "execution_count": 58,
   "id": "008f829e",
   "metadata": {},
   "outputs": [],
   "source": [
    "V=Vernacular_Medium()\n"
   ]
  },
  {
   "cell_type": "code",
   "execution_count": 59,
   "id": "fb2a11b1",
   "metadata": {},
   "outputs": [
    {
     "name": "stdout",
     "output_type": "stream",
     "text": [
      "Vernacular Medium teaching pattern is apreciated.\n",
      "Hindi Medium teaching pattern is apreciated.\n",
      "English Medium teaching pattern is apreciated.\n",
      "Top_Schools teaching pattern is apreciated.\n"
     ]
    }
   ],
   "source": [
    "V.teaching_pattern()"
   ]
  },
  {
   "cell_type": "code",
   "execution_count": null,
   "id": "a4f294f2",
   "metadata": {},
   "outputs": [],
   "source": []
  },
  {
   "cell_type": "code",
   "execution_count": null,
   "id": "ab77ec64",
   "metadata": {},
   "outputs": [],
   "source": []
  },
  {
   "cell_type": "code",
   "execution_count": null,
   "id": "5207f51a",
   "metadata": {},
   "outputs": [],
   "source": []
  }
 ],
 "metadata": {
  "kernelspec": {
   "display_name": "Python 3 (ipykernel)",
   "language": "python",
   "name": "python3"
  },
  "language_info": {
   "codemirror_mode": {
    "name": "ipython",
    "version": 3
   },
   "file_extension": ".py",
   "mimetype": "text/x-python",
   "name": "python",
   "nbconvert_exporter": "python",
   "pygments_lexer": "ipython3",
   "version": "3.8.8"
  }
 },
 "nbformat": 4,
 "nbformat_minor": 5
}
